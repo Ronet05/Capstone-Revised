{
 "cells": [
  {
   "cell_type": "code",
   "execution_count": 6,
   "metadata": {},
   "outputs": [
    {
     "name": "stderr",
     "output_type": "stream",
     "text": [
      "[nltk_data] Downloading package punkt to\n",
      "[nltk_data]     C:\\Users\\ronet\\AppData\\Roaming\\nltk_data...\n",
      "[nltk_data]   Unzipping tokenizers\\punkt.zip.\n"
     ]
    },
    {
     "data": {
      "text/plain": [
       "True"
      ]
     },
     "execution_count": 6,
     "metadata": {},
     "output_type": "execute_result"
    }
   ],
   "source": [
    "from textblob import TextBlob\n",
    "from vaderSentiment.vaderSentiment import SentimentIntensityAnalyzer\n",
    "import csv\n",
    "import nltk\n",
    "nltk.download('punkt')"
   ]
  },
  {
   "cell_type": "code",
   "execution_count": 9,
   "metadata": {},
   "outputs": [
    {
     "name": "stderr",
     "output_type": "stream",
     "text": [
      "[nltk_data] Downloading package averaged_perceptron_tagger to\n",
      "[nltk_data]     C:\\Users\\ronet\\AppData\\Roaming\\nltk_data...\n",
      "[nltk_data]   Unzipping taggers\\averaged_perceptron_tagger.zip.\n"
     ]
    },
    {
     "data": {
      "text/plain": [
       "True"
      ]
     },
     "execution_count": 9,
     "metadata": {},
     "output_type": "execute_result"
    }
   ],
   "source": [
    "nltk.download('averaged_perceptron_tagger')"
   ]
  },
  {
   "cell_type": "code",
   "execution_count": 20,
   "metadata": {},
   "outputs": [],
   "source": [
    "import numpy as np\n",
    "import math\n",
    "def sent_avg_score(text):\n",
    "    tb_object=TextBlob(text)\n",
    "    vader_analyzer = SentimentIntensityAnalyzer()\n",
    "    vader_score = vader_analyzer.polarity_scores(text)['compound']\n",
    "    textblob_score = tb_object.sentiment.polarity\n",
    "    return (vader_score+textblob_score)/2\n",
    "\n",
    "def sent_score(text):\n",
    "    vader_analyzer = SentimentIntensityAnalyzer()\n",
    "    vader_score = vader_analyzer.polarity_scores(text)['compound']\n",
    "    return vader_score\n",
    "\n",
    "def sent_magnitude(text):\n",
    "    vader_analyzer = SentimentIntensityAnalyzer()\n",
    "    c = vader_analyzer.polarity_scores(text)['compound']\n",
    "    mag = math.sqrt((math.pow(c,2)*15)/(1-math.pow(c,2)))\n",
    "    return mag"
   ]
  },
  {
   "cell_type": "code",
   "execution_count": 39,
   "metadata": {},
   "outputs": [
    {
     "name": "stdout",
     "output_type": "stream",
     "text": [
      "['AAPL', 0.0, 0.0]\n",
      "['AGN', 0.296, 1.2001858722490146]\n",
      "['ALK', 0.5574, 2.600200299213103]\n",
      "['AMZN', -0.4767, 2.100241697875429]\n",
      "['ANTM', 0.296, 1.2001858722490146]\n",
      "['AON', 0.9153, 8.801343730355526]\n",
      "['AVGO', 0.6597, 3.3997449869235217]\n",
      "['BA', 0.0, 0.0]\n",
      "['BAC', 0.296, 1.2001858722490146]\n",
      "['C', 0.3818, 1.5999059703161607]\n",
      "['CME', 0.4588, 1.9998262628081822]\n",
      "['DAL', 0.296, 1.2001858722490146]\n",
      "['DIS', 0.3182, 1.299950013134974]\n",
      "['DOV', 0.296, 1.2001858722490146]\n",
      "['EQT', 0.2023, 0.8000466162301506]\n",
      "['FB', 0.296, 1.2001858722490146]\n",
      "['FCX', -0.7906, 5.0005158799180975]\n",
      "['FLR', 0.0, 0.0]\n",
      "['FOXA', -0.2732, 1.0999439371549862]\n",
      "['GE', 0.2023, 0.8000466162301506]\n",
      "['GS', 0.0, 0.0]\n",
      "['GT', -0.7351, 4.199415223049586]\n",
      "['HON', 0.6486, 3.300380766513679]\n",
      "['INTC', 0.2023, 0.8000466162301506]\n",
      "['JPM', 0.296, 1.2001858722490146]\n",
      "['JWN', -0.4404, 1.8998203291896965]\n",
      "['K', 0.2023, 0.8000466162301506]\n",
      "['LMT', -0.34, 1.4002325838979388]\n",
      "['MCHP', 0.0, 0.0]\n",
      "['MYL', 0.2023, 0.8000466162301506]\n",
      "['NOC', 0.128, 0.4998535799666003]\n",
      "['PSX', -0.34, 1.4002325838979388]\n",
      "['RIG', 0.0, 0.0]\n",
      "['SPG', 0.1779, 0.7001724890684295]\n",
      "['UA', 0.2023, 0.8000466162301506]\n",
      "['WFC', 0.6249, 3.1000543132407277]\n",
      "['YUM', 0.296, 1.2001858722490146]\n"
     ]
    }
   ],
   "source": [
    "file = open('2019 data/news/2017-02-10.csv')\n",
    "csv_file=csv.reader(file)\n",
    "\n",
    "for row in file:\n",
    "    comp=row.split(',',1)[0]\n",
    "    comp_news=row.split(',',1)[1]\n",
    "    sentdata=TextBlob(comp_news)\n",
    "    \n",
    "    data=[]\n",
    "    data.append(comp)\n",
    "    data.extend((sent_score(comp_news), sent_magnitude(comp_news)))\n",
    "    print(data)\n",
    "\n",
    "    \n",
    "    "
   ]
  },
  {
   "cell_type": "code",
   "execution_count": 35,
   "metadata": {},
   "outputs": [],
   "source": [
    "analysis = \"Apple sows seeds for India iPhone awakening\""
   ]
  },
  {
   "cell_type": "code",
   "execution_count": 36,
   "metadata": {},
   "outputs": [
    {
     "name": "stdout",
     "output_type": "stream",
     "text": [
      "0.0\n",
      "0.0\n",
      "0.0\n"
     ]
    }
   ],
   "source": [
    "print(sent_avg_score(analysis))\n",
    "print(sent_score(analysis))\n",
    "print(sent_magnitude(analysis))\n"
   ]
  },
  {
   "cell_type": "code",
   "execution_count": null,
   "metadata": {},
   "outputs": [],
   "source": []
  }
 ],
 "metadata": {
  "kernelspec": {
   "display_name": "Python 3",
   "language": "python",
   "name": "python3"
  },
  "language_info": {
   "codemirror_mode": {
    "name": "ipython",
    "version": 3
   },
   "file_extension": ".py",
   "mimetype": "text/x-python",
   "name": "python",
   "nbconvert_exporter": "python",
   "pygments_lexer": "ipython3",
   "version": "3.7.6"
  }
 },
 "nbformat": 4,
 "nbformat_minor": 4
}
