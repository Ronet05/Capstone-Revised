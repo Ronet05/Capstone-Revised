{
  "nbformat": 4,
  "nbformat_minor": 0,
  "metadata": {
    "colab": {
      "name": "CNN_DNN_tfds.ipynb",
      "provenance": []
    },
    "kernelspec": {
      "name": "python3",
      "display_name": "Python 3"
    },
    "accelerator": "GPU"
  },
  "cells": [
    {
      "cell_type": "code",
      "metadata": {
        "id": "foOBwGso8K3C",
        "colab_type": "code",
        "colab": {}
      },
      "source": [
        "import pandas as pd\n",
        "import numpy as np\n",
        "import tensorflow as tf\n",
        "from tensorflow.keras.layers import Dense, Conv1D, Conv2D, MaxPooling1D, MaxPooling2D, GlobalAveragePooling1D, Flatten\n",
        "from tensorflow.keras.models import Sequential\n",
        "import matplotlib.pyplot as plt\n",
        "import csv\n",
        "import json \n",
        "import pickle\n",
        "import gc\n",
        "from sklearn.preprocessing import OneHotEncoder\n",
        "from sklearn import preprocessing"
      ],
      "execution_count": 0,
      "outputs": []
    },
    {
      "cell_type": "code",
      "metadata": {
        "id": "BLRaoyOd8ha7",
        "colab_type": "code",
        "colab": {
          "base_uri": "https://localhost:8080/",
          "height": 204
        },
        "outputId": "a3b89568-59c8-4e48-9f72-97c80b6e5a16"
      },
      "source": [
        "file = pd.read_csv(\"/process_file_progress_0.5.csv\", header=None)\n",
        "file.columns = ['comp','daynum','sent_score','sent_magn','open','close']\n",
        "file.head()"
      ],
      "execution_count": 2,
      "outputs": [
        {
          "output_type": "execute_result",
          "data": {
            "text/html": [
              "<div>\n",
              "<style scoped>\n",
              "    .dataframe tbody tr th:only-of-type {\n",
              "        vertical-align: middle;\n",
              "    }\n",
              "\n",
              "    .dataframe tbody tr th {\n",
              "        vertical-align: top;\n",
              "    }\n",
              "\n",
              "    .dataframe thead th {\n",
              "        text-align: right;\n",
              "    }\n",
              "</style>\n",
              "<table border=\"1\" class=\"dataframe\">\n",
              "  <thead>\n",
              "    <tr style=\"text-align: right;\">\n",
              "      <th></th>\n",
              "      <th>comp</th>\n",
              "      <th>daynum</th>\n",
              "      <th>sent_score</th>\n",
              "      <th>sent_magn</th>\n",
              "      <th>open</th>\n",
              "      <th>close</th>\n",
              "    </tr>\n",
              "  </thead>\n",
              "  <tbody>\n",
              "    <tr>\n",
              "      <th>0</th>\n",
              "      <td>TIF</td>\n",
              "      <td>37</td>\n",
              "      <td>0.0000</td>\n",
              "      <td>0.000000</td>\n",
              "      <td>78.269997</td>\n",
              "      <td>78.279999</td>\n",
              "    </tr>\n",
              "    <tr>\n",
              "      <th>1</th>\n",
              "      <td>CMG</td>\n",
              "      <td>38</td>\n",
              "      <td>0.4939</td>\n",
              "      <td>0.401648</td>\n",
              "      <td>400.500000</td>\n",
              "      <td>402.940002</td>\n",
              "    </tr>\n",
              "    <tr>\n",
              "      <th>2</th>\n",
              "      <td>DIS</td>\n",
              "      <td>38</td>\n",
              "      <td>0.2960</td>\n",
              "      <td>0.219123</td>\n",
              "      <td>109.559998</td>\n",
              "      <td>109.000000</td>\n",
              "    </tr>\n",
              "    <tr>\n",
              "      <th>3</th>\n",
              "      <td>EBAY</td>\n",
              "      <td>38</td>\n",
              "      <td>-0.4215</td>\n",
              "      <td>0.328668</td>\n",
              "      <td>32.450001</td>\n",
              "      <td>33.250000</td>\n",
              "    </tr>\n",
              "    <tr>\n",
              "      <th>4</th>\n",
              "      <td>FB</td>\n",
              "      <td>38</td>\n",
              "      <td>-0.2732</td>\n",
              "      <td>0.200821</td>\n",
              "      <td>132.600006</td>\n",
              "      <td>134.199997</td>\n",
              "    </tr>\n",
              "  </tbody>\n",
              "</table>\n",
              "</div>"
            ],
            "text/plain": [
              "   comp  daynum  sent_score  sent_magn        open       close\n",
              "0   TIF      37      0.0000   0.000000   78.269997   78.279999\n",
              "1   CMG      38      0.4939   0.401648  400.500000  402.940002\n",
              "2   DIS      38      0.2960   0.219123  109.559998  109.000000\n",
              "3  EBAY      38     -0.4215   0.328668   32.450001   33.250000\n",
              "4    FB      38     -0.2732   0.200821  132.600006  134.199997"
            ]
          },
          "metadata": {
            "tags": []
          },
          "execution_count": 2
        }
      ]
    },
    {
      "cell_type": "code",
      "metadata": {
        "id": "a-s9ZqRU8mE0",
        "colab_type": "code",
        "colab": {
          "base_uri": "https://localhost:8080/",
          "height": 204
        },
        "outputId": "dbc856a6-99fe-4743-8c74-a8e5109d06b4"
      },
      "source": [
        "company_group = file.groupby(['comp'], as_index=False).apply(pd.DataFrame.sort_values, ['daynum']).reset_index()\n",
        "company_group = company_group.drop(columns = ['level_0','level_1'])\n",
        "company_group.head()"
      ],
      "execution_count": 3,
      "outputs": [
        {
          "output_type": "execute_result",
          "data": {
            "text/html": [
              "<div>\n",
              "<style scoped>\n",
              "    .dataframe tbody tr th:only-of-type {\n",
              "        vertical-align: middle;\n",
              "    }\n",
              "\n",
              "    .dataframe tbody tr th {\n",
              "        vertical-align: top;\n",
              "    }\n",
              "\n",
              "    .dataframe thead th {\n",
              "        text-align: right;\n",
              "    }\n",
              "</style>\n",
              "<table border=\"1\" class=\"dataframe\">\n",
              "  <thead>\n",
              "    <tr style=\"text-align: right;\">\n",
              "      <th></th>\n",
              "      <th>comp</th>\n",
              "      <th>daynum</th>\n",
              "      <th>sent_score</th>\n",
              "      <th>sent_magn</th>\n",
              "      <th>open</th>\n",
              "      <th>close</th>\n",
              "    </tr>\n",
              "  </thead>\n",
              "  <tbody>\n",
              "    <tr>\n",
              "      <th>0</th>\n",
              "      <td>A</td>\n",
              "      <td>74</td>\n",
              "      <td>0.0000</td>\n",
              "      <td>0.000000</td>\n",
              "      <td>53.430000</td>\n",
              "      <td>53.049999</td>\n",
              "    </tr>\n",
              "    <tr>\n",
              "      <th>1</th>\n",
              "      <td>A</td>\n",
              "      <td>80</td>\n",
              "      <td>0.3182</td>\n",
              "      <td>0.237337</td>\n",
              "      <td>52.790001</td>\n",
              "      <td>53.130001</td>\n",
              "    </tr>\n",
              "    <tr>\n",
              "      <th>2</th>\n",
              "      <td>A</td>\n",
              "      <td>142</td>\n",
              "      <td>0.0000</td>\n",
              "      <td>0.000000</td>\n",
              "      <td>59.799999</td>\n",
              "      <td>58.660000</td>\n",
              "    </tr>\n",
              "    <tr>\n",
              "      <th>3</th>\n",
              "      <td>A</td>\n",
              "      <td>198</td>\n",
              "      <td>0.7003</td>\n",
              "      <td>0.693686</td>\n",
              "      <td>61.430000</td>\n",
              "      <td>61.209999</td>\n",
              "    </tr>\n",
              "    <tr>\n",
              "      <th>4</th>\n",
              "      <td>A</td>\n",
              "      <td>200</td>\n",
              "      <td>0.2732</td>\n",
              "      <td>0.200821</td>\n",
              "      <td>61.450001</td>\n",
              "      <td>60.980000</td>\n",
              "    </tr>\n",
              "  </tbody>\n",
              "</table>\n",
              "</div>"
            ],
            "text/plain": [
              "  comp  daynum  sent_score  sent_magn       open      close\n",
              "0    A      74      0.0000   0.000000  53.430000  53.049999\n",
              "1    A      80      0.3182   0.237337  52.790001  53.130001\n",
              "2    A     142      0.0000   0.000000  59.799999  58.660000\n",
              "3    A     198      0.7003   0.693686  61.430000  61.209999\n",
              "4    A     200      0.2732   0.200821  61.450001  60.980000"
            ]
          },
          "metadata": {
            "tags": []
          },
          "execution_count": 3
        }
      ]
    },
    {
      "cell_type": "code",
      "metadata": {
        "id": "jovgQj2R8oE1",
        "colab_type": "code",
        "colab": {}
      },
      "source": [
        "comp_data_array = np.array(company_group)\n",
        "oh_encoder = OneHotEncoder()\n",
        "comp_encode = oh_encoder.fit_transform(comp_data_array[:,0:1]).toarray()\n",
        "comp_encode = np.append(comp_encode, comp_data_array[:,1:],1)\n",
        "comp_encode = preprocessing.normalize(comp_encode)\n",
        "np.random.shuffle(comp_encode)\n",
        "\n",
        "comp_encode_train = comp_encode[:19000,:]\n",
        "comp_encode_test = comp_encode[19000:, :]"
      ],
      "execution_count": 0,
      "outputs": []
    },
    {
      "cell_type": "code",
      "metadata": {
        "id": "89mlky778uek",
        "colab_type": "code",
        "colab": {}
      },
      "source": [
        "ds = tf.data.Dataset.from_tensor_slices(comp_encode_train)\n",
        "ds = ds.window(3, shift=1, drop_remainder=True)\n",
        "ds = ds.flat_map(lambda window: window.batch(3))\n",
        "ds_train = ds.shuffle(5).map(lambda window: (window[:,:-1], window[:,-1]))\n",
        "#ds_train= ds.batch(2).prefetch(1)"
      ],
      "execution_count": 0,
      "outputs": []
    },
    {
      "cell_type": "code",
      "metadata": {
        "id": "3Wct07j_8wIO",
        "colab_type": "code",
        "colab": {}
      },
      "source": [
        "ds_test = tf.data.Dataset.from_tensor_slices(comp_encode_test)\n",
        "ds_test = ds_test.window(3, shift=1, drop_remainder=True)\n",
        "ds_test = ds_test.flat_map(lambda window: window.batch(3))\n",
        "ds_test = ds_test.shuffle(5).map(lambda window: (window[:,:-1], window[:,-1]))\n",
        "#ds_test= ds_test.batch(2).prefetch(1)"
      ],
      "execution_count": 0,
      "outputs": []
    },
    {
      "cell_type": "code",
      "metadata": {
        "id": "hwFVXQBa8zpU",
        "colab_type": "code",
        "colab": {
          "base_uri": "https://localhost:8080/",
          "height": 170
        },
        "outputId": "593526da-f40c-42e4-cae4-017bf7ce8c50"
      },
      "source": [
        "for i,j in ds_train:\n",
        "    print(i.numpy())\n",
        "    print(j.numpy())\n",
        "    print(i.shape)\n",
        "    print(j.shape)\n",
        "    break"
      ],
      "execution_count": 7,
      "outputs": [
        {
          "output_type": "stream",
          "text": [
            "[[ 0.          0.          0.         ...  0.          0.\n",
            "   0.09655788]\n",
            " [ 0.          0.          0.         ...  0.00107859  0.00085241\n",
            "   0.09877783]\n",
            " [ 0.          0.          0.         ... -0.00119557  0.00116921\n",
            "   0.10134961]]\n",
            "[0.09699443 0.09875367 0.09851126]\n",
            "(3, 449)\n",
            "(3,)\n"
          ],
          "name": "stdout"
        }
      ]
    },
    {
      "cell_type": "code",
      "metadata": {
        "id": "qDpydomK810q",
        "colab_type": "code",
        "colab": {}
      },
      "source": [
        "model = Sequential()\n",
        "model.add(tf.keras.layers.Lambda(lambda x:tf.expand_dims(x, axis=-1), input_shape=[449]))\n",
        "model.add(Conv1D(32, 5, activation=\"relu\"))\n",
        "model.add(MaxPooling1D(2))\n",
        "model.add(tf.keras.layers.Dropout(0.3))\n",
        "model.add(Conv1D(64, 5, activation=\"relu\"))\n",
        "model.add(MaxPooling1D(2))\n",
        "model.add(Flatten())\n",
        "model.add(Dense(512, activation=\"relu\"))\n",
        "model.add(tf.keras.layers.Dropout(0.4))\n",
        "model.add(Dense(32, activation=\"relu\"))\n",
        "model.add(Dense(1))\n",
        "\n",
        "model.compile(optimizer='sgd', metrics=['mse','mae'], loss='mse')\n",
        "#model.summary(0)"
      ],
      "execution_count": 0,
      "outputs": []
    },
    {
      "cell_type": "code",
      "metadata": {
        "id": "D2lsxUtO84K7",
        "colab_type": "code",
        "colab": {
          "base_uri": "https://localhost:8080/",
          "height": 1000
        },
        "outputId": "14d62a41-c791-4395-a6d1-457601f9e16e"
      },
      "source": [
        "history = model.fit(ds_train, epochs=50, verbose=2, validation_data = ds_test)"
      ],
      "execution_count": 9,
      "outputs": [
        {
          "output_type": "stream",
          "text": [
            "Epoch 1/50\n",
            "18998/18998 - 56s - loss: 0.0069 - mse: 0.0069 - mae: 0.0600 - val_loss: 0.0021 - val_mse: 0.0021 - val_mae: 0.0384\n",
            "Epoch 2/50\n",
            "18998/18998 - 56s - loss: 0.0020 - mse: 0.0020 - mae: 0.0348 - val_loss: 0.0049 - val_mse: 0.0049 - val_mae: 0.0655\n",
            "Epoch 3/50\n",
            "18998/18998 - 57s - loss: 0.0014 - mse: 0.0014 - mae: 0.0295 - val_loss: 0.0042 - val_mse: 0.0042 - val_mae: 0.0595\n",
            "Epoch 4/50\n",
            "18998/18998 - 55s - loss: 0.0011 - mse: 0.0011 - mae: 0.0261 - val_loss: 0.0048 - val_mse: 0.0048 - val_mae: 0.0633\n",
            "Epoch 5/50\n",
            "18998/18998 - 56s - loss: 9.5128e-04 - mse: 9.5128e-04 - mae: 0.0239 - val_loss: 0.0083 - val_mse: 0.0083 - val_mae: 0.0848\n",
            "Epoch 6/50\n",
            "18998/18998 - 56s - loss: 8.4932e-04 - mse: 8.4932e-04 - mae: 0.0224 - val_loss: 0.0083 - val_mse: 0.0083 - val_mae: 0.0852\n",
            "Epoch 7/50\n",
            "18998/18998 - 55s - loss: 7.6620e-04 - mse: 7.6620e-04 - mae: 0.0212 - val_loss: 0.0061 - val_mse: 0.0061 - val_mae: 0.0700\n",
            "Epoch 8/50\n",
            "18998/18998 - 54s - loss: 7.1590e-04 - mse: 7.1589e-04 - mae: 0.0205 - val_loss: 0.0078 - val_mse: 0.0078 - val_mae: 0.0808\n",
            "Epoch 9/50\n",
            "18998/18998 - 56s - loss: 6.6919e-04 - mse: 6.6919e-04 - mae: 0.0198 - val_loss: 0.0084 - val_mse: 0.0084 - val_mae: 0.0830\n",
            "Epoch 10/50\n",
            "18998/18998 - 55s - loss: 6.2408e-04 - mse: 6.2408e-04 - mae: 0.0191 - val_loss: 0.0078 - val_mse: 0.0078 - val_mae: 0.0815\n",
            "Epoch 11/50\n",
            "18998/18998 - 54s - loss: 6.0152e-04 - mse: 6.0152e-04 - mae: 0.0187 - val_loss: 0.0094 - val_mse: 0.0094 - val_mae: 0.0897\n",
            "Epoch 12/50\n",
            "18998/18998 - 54s - loss: 5.6608e-04 - mse: 5.6608e-04 - mae: 0.0182 - val_loss: 0.0097 - val_mse: 0.0097 - val_mae: 0.0913\n",
            "Epoch 13/50\n",
            "18998/18998 - 54s - loss: 5.5513e-04 - mse: 5.5513e-04 - mae: 0.0179 - val_loss: 0.0090 - val_mse: 0.0090 - val_mae: 0.0864\n",
            "Epoch 14/50\n",
            "18998/18998 - 54s - loss: 5.3386e-04 - mse: 5.3386e-04 - mae: 0.0175 - val_loss: 0.0087 - val_mse: 0.0087 - val_mae: 0.0852\n",
            "Epoch 15/50\n",
            "18998/18998 - 56s - loss: 5.0357e-04 - mse: 5.0357e-04 - mae: 0.0170 - val_loss: 0.0103 - val_mse: 0.0103 - val_mae: 0.0923\n",
            "Epoch 16/50\n",
            "18998/18998 - 55s - loss: 5.0364e-04 - mse: 5.0363e-04 - mae: 0.0169 - val_loss: 0.0089 - val_mse: 0.0089 - val_mae: 0.0860\n",
            "Epoch 17/50\n",
            "18998/18998 - 54s - loss: 4.7319e-04 - mse: 4.7318e-04 - mae: 0.0165 - val_loss: 0.0104 - val_mse: 0.0104 - val_mae: 0.0944\n",
            "Epoch 18/50\n",
            "18998/18998 - 54s - loss: 4.6487e-04 - mse: 4.6487e-04 - mae: 0.0163 - val_loss: 0.0096 - val_mse: 0.0096 - val_mae: 0.0883\n",
            "Epoch 19/50\n",
            "18998/18998 - 54s - loss: 4.4930e-04 - mse: 4.4930e-04 - mae: 0.0160 - val_loss: 0.0091 - val_mse: 0.0091 - val_mae: 0.0875\n",
            "Epoch 20/50\n",
            "18998/18998 - 55s - loss: 4.3464e-04 - mse: 4.3464e-04 - mae: 0.0158 - val_loss: 0.0095 - val_mse: 0.0095 - val_mae: 0.0879\n",
            "Epoch 21/50\n",
            "18998/18998 - 54s - loss: 4.2992e-04 - mse: 4.2992e-04 - mae: 0.0156 - val_loss: 0.0107 - val_mse: 0.0107 - val_mae: 0.0949\n",
            "Epoch 22/50\n",
            "18998/18998 - 55s - loss: 4.1666e-04 - mse: 4.1666e-04 - mae: 0.0154 - val_loss: 0.0105 - val_mse: 0.0105 - val_mae: 0.0931\n",
            "Epoch 23/50\n",
            "18998/18998 - 54s - loss: 4.0408e-04 - mse: 4.0408e-04 - mae: 0.0152 - val_loss: 0.0127 - val_mse: 0.0127 - val_mae: 0.1024\n",
            "Epoch 24/50\n",
            "18998/18998 - 54s - loss: 4.0432e-04 - mse: 4.0432e-04 - mae: 0.0152 - val_loss: 0.0104 - val_mse: 0.0104 - val_mae: 0.0910\n",
            "Epoch 25/50\n",
            "18998/18998 - 54s - loss: 3.8501e-04 - mse: 3.8501e-04 - mae: 0.0149 - val_loss: 0.0121 - val_mse: 0.0121 - val_mae: 0.1000\n",
            "Epoch 26/50\n",
            "18998/18998 - 55s - loss: 3.9201e-04 - mse: 3.9201e-04 - mae: 0.0148 - val_loss: 0.0075 - val_mse: 0.0075 - val_mae: 0.0753\n",
            "Epoch 27/50\n",
            "18998/18998 - 55s - loss: 3.7984e-04 - mse: 3.7984e-04 - mae: 0.0146 - val_loss: 0.0121 - val_mse: 0.0121 - val_mae: 0.1015\n",
            "Epoch 28/50\n",
            "18998/18998 - 54s - loss: 3.6086e-04 - mse: 3.6086e-04 - mae: 0.0144 - val_loss: 0.0132 - val_mse: 0.0132 - val_mae: 0.1040\n",
            "Epoch 29/50\n",
            "18998/18998 - 54s - loss: 3.7181e-04 - mse: 3.7181e-04 - mae: 0.0144 - val_loss: 0.0110 - val_mse: 0.0110 - val_mae: 0.0951\n",
            "Epoch 30/50\n",
            "18998/18998 - 54s - loss: 3.5911e-04 - mse: 3.5911e-04 - mae: 0.0143 - val_loss: 0.0125 - val_mse: 0.0125 - val_mae: 0.1024\n",
            "Epoch 31/50\n",
            "18998/18998 - 54s - loss: 3.4941e-04 - mse: 3.4941e-04 - mae: 0.0140 - val_loss: 0.0116 - val_mse: 0.0116 - val_mae: 0.0973\n",
            "Epoch 32/50\n",
            "18998/18998 - 55s - loss: 3.4329e-04 - mse: 3.4329e-04 - mae: 0.0140 - val_loss: 0.0118 - val_mse: 0.0118 - val_mae: 0.0979\n",
            "Epoch 33/50\n",
            "18998/18998 - 55s - loss: 3.3865e-04 - mse: 3.3865e-04 - mae: 0.0138 - val_loss: 0.0113 - val_mse: 0.0113 - val_mae: 0.0953\n",
            "Epoch 34/50\n",
            "18998/18998 - 54s - loss: 3.4405e-04 - mse: 3.4405e-04 - mae: 0.0138 - val_loss: 0.0130 - val_mse: 0.0130 - val_mae: 0.1036\n",
            "Epoch 35/50\n",
            "18998/18998 - 54s - loss: 3.3022e-04 - mse: 3.3022e-04 - mae: 0.0136 - val_loss: 0.0131 - val_mse: 0.0131 - val_mae: 0.1024\n",
            "Epoch 36/50\n",
            "18998/18998 - 54s - loss: 3.2366e-04 - mse: 3.2366e-04 - mae: 0.0135 - val_loss: 0.0153 - val_mse: 0.0153 - val_mae: 0.1108\n",
            "Epoch 37/50\n",
            "18998/18998 - 55s - loss: 3.1848e-04 - mse: 3.1848e-04 - mae: 0.0134 - val_loss: 0.0150 - val_mse: 0.0150 - val_mae: 0.1104\n",
            "Epoch 38/50\n",
            "18998/18998 - 54s - loss: 3.1164e-04 - mse: 3.1163e-04 - mae: 0.0133 - val_loss: 0.0132 - val_mse: 0.0132 - val_mae: 0.1029\n",
            "Epoch 39/50\n",
            "18998/18998 - 54s - loss: 3.0996e-04 - mse: 3.0996e-04 - mae: 0.0132 - val_loss: 0.0148 - val_mse: 0.0148 - val_mae: 0.1106\n",
            "Epoch 40/50\n",
            "18998/18998 - 54s - loss: 3.0576e-04 - mse: 3.0576e-04 - mae: 0.0132 - val_loss: 0.0141 - val_mse: 0.0141 - val_mae: 0.1076\n",
            "Epoch 41/50\n",
            "18998/18998 - 54s - loss: 3.0400e-04 - mse: 3.0400e-04 - mae: 0.0131 - val_loss: 0.0134 - val_mse: 0.0134 - val_mae: 0.1044\n",
            "Epoch 42/50\n",
            "18998/18998 - 54s - loss: 3.0520e-04 - mse: 3.0520e-04 - mae: 0.0131 - val_loss: 0.0142 - val_mse: 0.0142 - val_mae: 0.1080\n",
            "Epoch 43/50\n",
            "18998/18998 - 55s - loss: 3.0718e-04 - mse: 3.0718e-04 - mae: 0.0131 - val_loss: 0.0137 - val_mse: 0.0137 - val_mae: 0.1056\n",
            "Epoch 44/50\n",
            "18998/18998 - 55s - loss: 3.0274e-04 - mse: 3.0274e-04 - mae: 0.0130 - val_loss: 0.0131 - val_mse: 0.0131 - val_mae: 0.1021\n",
            "Epoch 45/50\n",
            "18998/18998 - 54s - loss: 2.9065e-04 - mse: 2.9065e-04 - mae: 0.0128 - val_loss: 0.0111 - val_mse: 0.0111 - val_mae: 0.0938\n",
            "Epoch 46/50\n",
            "18998/18998 - 55s - loss: 2.9729e-04 - mse: 2.9729e-04 - mae: 0.0128 - val_loss: 0.0141 - val_mse: 0.0141 - val_mae: 0.1065\n",
            "Epoch 47/50\n",
            "18998/18998 - 55s - loss: 2.8663e-04 - mse: 2.8663e-04 - mae: 0.0127 - val_loss: 0.0156 - val_mse: 0.0156 - val_mae: 0.1127\n",
            "Epoch 48/50\n",
            "18998/18998 - 54s - loss: 2.7979e-04 - mse: 2.7979e-04 - mae: 0.0125 - val_loss: 0.0160 - val_mse: 0.0160 - val_mae: 0.1138\n",
            "Epoch 49/50\n",
            "18998/18998 - 55s - loss: 2.7770e-04 - mse: 2.7770e-04 - mae: 0.0125 - val_loss: 0.0141 - val_mse: 0.0141 - val_mae: 0.1057\n",
            "Epoch 50/50\n",
            "18998/18998 - 55s - loss: 2.7556e-04 - mse: 2.7556e-04 - mae: 0.0125 - val_loss: 0.0151 - val_mse: 0.0151 - val_mae: 0.1100\n"
          ],
          "name": "stdout"
        }
      ]
    },
    {
      "cell_type": "code",
      "metadata": {
        "id": "qkHl-ecr9WIY",
        "colab_type": "code",
        "colab": {
          "base_uri": "https://localhost:8080/",
          "height": 1000
        },
        "outputId": "f732ce8c-aaf1-4e90-8cbf-26464ad2ed0e"
      },
      "source": [
        "import matplotlib.pyplot as plt\n",
        "\n",
        "mse = history.history['mse']\n",
        "mae = history.history['mae']\n",
        "loss = history.history['loss']\n",
        "val_loss = history.history['val_loss']\n",
        "val_mse = history.history['val_mse']\n",
        "val_mae = history.history['val_mae']\n",
        "\n",
        "epochs = 50\n",
        "x=[]\n",
        "for i in range(epochs):\n",
        "    x.append(i)\n",
        "\n",
        "plt.figure(figsize = (5,5))\n",
        "plt.xlabel(\"Epochs\")\n",
        "plt.ylabel(\"Loss (MSE)\")\n",
        "plt.title(\"Train vs Test\")\n",
        "plt.plot(x, loss)\n",
        "plt.plot(x, val_loss)\n",
        "plt.legend(labels = ['train', 'test'])\n",
        "plt.show()\n",
        "\n",
        "\n",
        "plt.figure(figsize = (5,5))\n",
        "plt.xlabel(\"Epochs\")\n",
        "plt.ylabel(\"MSE vs MAE\")\n",
        "plt.title(\"Train Set\")\n",
        "plt.plot(x, mse, color='red')\n",
        "plt.plot(x, mae, color='blue')\n",
        "plt.legend(labels=['mse','mae'])\n",
        "plt.show()\n",
        "\n",
        "plt.figure(figsize = (5,5))\n",
        "plt.xlabel(\"Epochs\")\n",
        "plt.ylabel(\"MSE vs MAE\")\n",
        "plt.title(\"Test Set\")\n",
        "plt.plot(x, val_mse, color='red')\n",
        "plt.plot(x, val_mae, color='blue')\n",
        "plt.legend(labels=['mse','mae'])\n",
        "plt.show()"
      ],
      "execution_count": 17,
      "outputs": [
        {
          "output_type": "display_data",
          "data": {
            "image/png": "[encoded data removed]",
            "text/plain": [
              "<Figure size 360x360 with 1 Axes>"
            ]
          },
          "metadata": {
            "tags": [],
            "needs_background": "light"
          }
        },
        {
          "output_type": "display_data",
          "data": {
            "image/png": "[encoded data removed]",
            "text/plain": [
              "<Figure size 360x360 with 1 Axes>"
            ]
          },
          "metadata": {
            "tags": [],
            "needs_background": "light"
          }
        },
        {
          "output_type": "display_data",
          "data": {
            "image/png": "[encoded data removed]",
            "text/plain": [
              "<Figure size 360x360 with 1 Axes>"
            ]
          },
          "metadata": {
            "tags": [],
            "needs_background": "light"
          }
        }
      ]
    },
    {
      "cell_type": "code",
      "metadata": {
        "id": "HACj0KidIqbJ",
        "colab_type": "code",
        "colab": {
          "base_uri": "https://localhost:8080/",
          "height": 34
        },
        "outputId": "9559bc0f-933a-471b-b360-e24a63e56e1d"
      },
      "source": [
        "avg_rmse = np.sqrt(np.average(val_mse))\n",
        "print(\"RMSE on test data: \",avg_rmse)"
      ],
      "execution_count": 18,
      "outputs": [
        {
          "output_type": "stream",
          "text": [
            "RMSE on test data:  0.10426741531783096\n"
          ],
          "name": "stdout"
        }
      ]
    },
    {
      "cell_type": "code",
      "metadata": {
        "id": "NEFLJZeNMXnB",
        "colab_type": "code",
        "colab": {}
      },
      "source": [
        "#probably can be improved by adjusting the learning rate dynamically"
      ],
      "execution_count": 0,
      "outputs": []
    },
    {
      "cell_type": "code",
      "metadata": {
        "id": "5bExwRFNMegt",
        "colab_type": "code",
        "colab": {}
      },
      "source": [
        ""
      ],
      "execution_count": 0,
      "outputs": []
    }
  ]
}